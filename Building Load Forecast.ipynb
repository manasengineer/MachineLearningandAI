{
 "cells": [
  {
   "cell_type": "code",
   "execution_count": 326,
   "id": "696de0c3",
   "metadata": {},
   "outputs": [
    {
     "name": "stdout",
     "output_type": "stream",
     "text": [
      "Setup Complete\n"
     ]
    }
   ],
   "source": [
    "import numpy as np\n",
    "import torch\n",
    "import pandas as pd\n",
    "import openpyxl\n",
    "from matplotlib import pyplot as plt\n",
    "from sklearn.model_selection import KFold\n",
    "print('Setup Complete')"
   ]
  },
  {
   "cell_type": "markdown",
   "id": "a14bf486",
   "metadata": {},
   "source": [
    "Import the .csv file from blackboard using pandas "
   ]
  },
  {
   "cell_type": "code",
   "execution_count": 247,
   "id": "39a5e00e",
   "metadata": {},
   "outputs": [
    {
     "data": {
      "text/html": [
       "<div>\n",
       "<style scoped>\n",
       "    .dataframe tbody tr th:only-of-type {\n",
       "        vertical-align: middle;\n",
       "    }\n",
       "\n",
       "    .dataframe tbody tr th {\n",
       "        vertical-align: top;\n",
       "    }\n",
       "\n",
       "    .dataframe thead th {\n",
       "        text-align: right;\n",
       "    }\n",
       "</style>\n",
       "<table border=\"1\" class=\"dataframe\">\n",
       "  <thead>\n",
       "    <tr style=\"text-align: right;\">\n",
       "      <th></th>\n",
       "      <th>Barometer</th>\n",
       "      <th>Hygrometer</th>\n",
       "      <th>Rain Gauge</th>\n",
       "      <th>Solar Radiation Sensor</th>\n",
       "      <th>Thermometer</th>\n",
       "      <th>Wind Vane</th>\n",
       "      <th>Load</th>\n",
       "    </tr>\n",
       "  </thead>\n",
       "  <tbody>\n",
       "    <tr>\n",
       "      <th>count</th>\n",
       "      <td>8216.000000</td>\n",
       "      <td>8216.000000</td>\n",
       "      <td>8212.000000</td>\n",
       "      <td>8216.000000</td>\n",
       "      <td>8216.000000</td>\n",
       "      <td>8215.000000</td>\n",
       "      <td>8216.000000</td>\n",
       "    </tr>\n",
       "    <tr>\n",
       "      <th>mean</th>\n",
       "      <td>29.819179</td>\n",
       "      <td>35.355891</td>\n",
       "      <td>0.116963</td>\n",
       "      <td>235.668087</td>\n",
       "      <td>73.372651</td>\n",
       "      <td>351.356665</td>\n",
       "      <td>123.402012</td>\n",
       "    </tr>\n",
       "    <tr>\n",
       "      <th>std</th>\n",
       "      <td>0.165792</td>\n",
       "      <td>21.404209</td>\n",
       "      <td>0.256712</td>\n",
       "      <td>304.533733</td>\n",
       "      <td>8.574128</td>\n",
       "      <td>40.738703</td>\n",
       "      <td>24.732124</td>\n",
       "    </tr>\n",
       "    <tr>\n",
       "      <th>min</th>\n",
       "      <td>29.260000</td>\n",
       "      <td>1.000000</td>\n",
       "      <td>0.000000</td>\n",
       "      <td>0.000000</td>\n",
       "      <td>43.900000</td>\n",
       "      <td>5.000000</td>\n",
       "      <td>63.830000</td>\n",
       "    </tr>\n",
       "    <tr>\n",
       "      <th>25%</th>\n",
       "      <td>29.723000</td>\n",
       "      <td>14.000000</td>\n",
       "      <td>0.000000</td>\n",
       "      <td>0.000000</td>\n",
       "      <td>67.900000</td>\n",
       "      <td>360.000000</td>\n",
       "      <td>110.827500</td>\n",
       "    </tr>\n",
       "    <tr>\n",
       "      <th>50%</th>\n",
       "      <td>29.809000</td>\n",
       "      <td>43.000000</td>\n",
       "      <td>0.000000</td>\n",
       "      <td>69.000000</td>\n",
       "      <td>73.500000</td>\n",
       "      <td>360.000000</td>\n",
       "      <td>122.170000</td>\n",
       "    </tr>\n",
       "    <tr>\n",
       "      <th>75%</th>\n",
       "      <td>29.914000</td>\n",
       "      <td>53.000000</td>\n",
       "      <td>0.090000</td>\n",
       "      <td>397.000000</td>\n",
       "      <td>79.400000</td>\n",
       "      <td>360.000000</td>\n",
       "      <td>137.085000</td>\n",
       "    </tr>\n",
       "    <tr>\n",
       "      <th>max</th>\n",
       "      <td>30.351000</td>\n",
       "      <td>74.000000</td>\n",
       "      <td>1.650000</td>\n",
       "      <td>1262.000000</td>\n",
       "      <td>95.600000</td>\n",
       "      <td>360.000000</td>\n",
       "      <td>256.990000</td>\n",
       "    </tr>\n",
       "  </tbody>\n",
       "</table>\n",
       "</div>"
      ],
      "text/plain": [
       "         Barometer   Hygrometer   Rain Gauge  Solar Radiation Sensor  \\\n",
       "count  8216.000000  8216.000000  8212.000000             8216.000000   \n",
       "mean     29.819179    35.355891     0.116963              235.668087   \n",
       "std       0.165792    21.404209     0.256712              304.533733   \n",
       "min      29.260000     1.000000     0.000000                0.000000   \n",
       "25%      29.723000    14.000000     0.000000                0.000000   \n",
       "50%      29.809000    43.000000     0.000000               69.000000   \n",
       "75%      29.914000    53.000000     0.090000              397.000000   \n",
       "max      30.351000    74.000000     1.650000             1262.000000   \n",
       "\n",
       "       Thermometer    Wind Vane         Load  \n",
       "count  8216.000000  8215.000000  8216.000000  \n",
       "mean     73.372651   351.356665   123.402012  \n",
       "std       8.574128    40.738703    24.732124  \n",
       "min      43.900000     5.000000    63.830000  \n",
       "25%      67.900000   360.000000   110.827500  \n",
       "50%      73.500000   360.000000   122.170000  \n",
       "75%      79.400000   360.000000   137.085000  \n",
       "max      95.600000   360.000000   256.990000  "
      ]
     },
     "execution_count": 247,
     "metadata": {},
     "output_type": "execute_result"
    }
   ],
   "source": [
    "building_load_dataset='C:/Users/Acer/Desktop/AI & Machine Learning/Homework/Midterm/Building_Load_Dataset.csv'\n",
    "building_data=pd.read_csv(building_load_dataset)\n",
    "building_data.describe()"
   ]
  },
  {
   "cell_type": "code",
   "execution_count": 248,
   "id": "dc25898e",
   "metadata": {},
   "outputs": [
    {
     "data": {
      "text/html": [
       "<div>\n",
       "<style scoped>\n",
       "    .dataframe tbody tr th:only-of-type {\n",
       "        vertical-align: middle;\n",
       "    }\n",
       "\n",
       "    .dataframe tbody tr th {\n",
       "        vertical-align: top;\n",
       "    }\n",
       "\n",
       "    .dataframe thead th {\n",
       "        text-align: right;\n",
       "    }\n",
       "</style>\n",
       "<table border=\"1\" class=\"dataframe\">\n",
       "  <thead>\n",
       "    <tr style=\"text-align: right;\">\n",
       "      <th></th>\n",
       "      <th>Timestamp</th>\n",
       "      <th>Barometer</th>\n",
       "      <th>Hygrometer</th>\n",
       "      <th>Rain Gauge</th>\n",
       "      <th>Solar Radiation Sensor</th>\n",
       "      <th>Thermometer</th>\n",
       "      <th>Wind Vane</th>\n",
       "      <th>Load</th>\n",
       "    </tr>\n",
       "  </thead>\n",
       "  <tbody>\n",
       "    <tr>\n",
       "      <th>0</th>\n",
       "      <td>6/1/2020 0:00</td>\n",
       "      <td>30.099</td>\n",
       "      <td>59</td>\n",
       "      <td>0.0</td>\n",
       "      <td>0</td>\n",
       "      <td>49.7</td>\n",
       "      <td>360.0</td>\n",
       "      <td>91.06</td>\n",
       "    </tr>\n",
       "    <tr>\n",
       "      <th>1</th>\n",
       "      <td>6/1/2020 0:15</td>\n",
       "      <td>30.097</td>\n",
       "      <td>60</td>\n",
       "      <td>0.0</td>\n",
       "      <td>0</td>\n",
       "      <td>49.5</td>\n",
       "      <td>360.0</td>\n",
       "      <td>90.29</td>\n",
       "    </tr>\n",
       "    <tr>\n",
       "      <th>2</th>\n",
       "      <td>6/1/2020 0:30</td>\n",
       "      <td>30.099</td>\n",
       "      <td>61</td>\n",
       "      <td>0.0</td>\n",
       "      <td>0</td>\n",
       "      <td>49.2</td>\n",
       "      <td>360.0</td>\n",
       "      <td>90.98</td>\n",
       "    </tr>\n",
       "    <tr>\n",
       "      <th>3</th>\n",
       "      <td>6/1/2020 0:45</td>\n",
       "      <td>30.096</td>\n",
       "      <td>62</td>\n",
       "      <td>0.0</td>\n",
       "      <td>0</td>\n",
       "      <td>48.7</td>\n",
       "      <td>360.0</td>\n",
       "      <td>85.53</td>\n",
       "    </tr>\n",
       "    <tr>\n",
       "      <th>4</th>\n",
       "      <td>6/1/2020 1:00</td>\n",
       "      <td>30.097</td>\n",
       "      <td>63</td>\n",
       "      <td>0.0</td>\n",
       "      <td>0</td>\n",
       "      <td>48.2</td>\n",
       "      <td>360.0</td>\n",
       "      <td>81.57</td>\n",
       "    </tr>\n",
       "    <tr>\n",
       "      <th>...</th>\n",
       "      <td>...</td>\n",
       "      <td>...</td>\n",
       "      <td>...</td>\n",
       "      <td>...</td>\n",
       "      <td>...</td>\n",
       "      <td>...</td>\n",
       "      <td>...</td>\n",
       "      <td>...</td>\n",
       "    </tr>\n",
       "    <tr>\n",
       "      <th>8211</th>\n",
       "      <td>8/31/2020 22:15</td>\n",
       "      <td>29.866</td>\n",
       "      <td>46</td>\n",
       "      <td>0.0</td>\n",
       "      <td>0</td>\n",
       "      <td>70.5</td>\n",
       "      <td>360.0</td>\n",
       "      <td>119.18</td>\n",
       "    </tr>\n",
       "    <tr>\n",
       "      <th>8212</th>\n",
       "      <td>8/31/2020 22:45</td>\n",
       "      <td>29.875</td>\n",
       "      <td>45</td>\n",
       "      <td>0.0</td>\n",
       "      <td>0</td>\n",
       "      <td>70.3</td>\n",
       "      <td>360.0</td>\n",
       "      <td>119.02</td>\n",
       "    </tr>\n",
       "    <tr>\n",
       "      <th>8213</th>\n",
       "      <td>8/31/2020 23:00</td>\n",
       "      <td>29.875</td>\n",
       "      <td>46</td>\n",
       "      <td>0.0</td>\n",
       "      <td>0</td>\n",
       "      <td>70.3</td>\n",
       "      <td>360.0</td>\n",
       "      <td>96.34</td>\n",
       "    </tr>\n",
       "    <tr>\n",
       "      <th>8214</th>\n",
       "      <td>8/31/2020 23:15</td>\n",
       "      <td>29.879</td>\n",
       "      <td>45</td>\n",
       "      <td>0.0</td>\n",
       "      <td>0</td>\n",
       "      <td>70.1</td>\n",
       "      <td>360.0</td>\n",
       "      <td>119.19</td>\n",
       "    </tr>\n",
       "    <tr>\n",
       "      <th>8215</th>\n",
       "      <td>8/31/2020 23:45</td>\n",
       "      <td>29.885</td>\n",
       "      <td>40</td>\n",
       "      <td>0.0</td>\n",
       "      <td>0</td>\n",
       "      <td>70.0</td>\n",
       "      <td>360.0</td>\n",
       "      <td>107.71</td>\n",
       "    </tr>\n",
       "  </tbody>\n",
       "</table>\n",
       "<p>8216 rows × 8 columns</p>\n",
       "</div>"
      ],
      "text/plain": [
       "            Timestamp  Barometer  Hygrometer  Rain Gauge  \\\n",
       "0       6/1/2020 0:00     30.099          59         0.0   \n",
       "1       6/1/2020 0:15     30.097          60         0.0   \n",
       "2       6/1/2020 0:30     30.099          61         0.0   \n",
       "3       6/1/2020 0:45     30.096          62         0.0   \n",
       "4       6/1/2020 1:00     30.097          63         0.0   \n",
       "...               ...        ...         ...         ...   \n",
       "8211  8/31/2020 22:15     29.866          46         0.0   \n",
       "8212  8/31/2020 22:45     29.875          45         0.0   \n",
       "8213  8/31/2020 23:00     29.875          46         0.0   \n",
       "8214  8/31/2020 23:15     29.879          45         0.0   \n",
       "8215  8/31/2020 23:45     29.885          40         0.0   \n",
       "\n",
       "      Solar Radiation Sensor  Thermometer  Wind Vane    Load  \n",
       "0                          0         49.7      360.0   91.06  \n",
       "1                          0         49.5      360.0   90.29  \n",
       "2                          0         49.2      360.0   90.98  \n",
       "3                          0         48.7      360.0   85.53  \n",
       "4                          0         48.2      360.0   81.57  \n",
       "...                      ...          ...        ...     ...  \n",
       "8211                       0         70.5      360.0  119.18  \n",
       "8212                       0         70.3      360.0  119.02  \n",
       "8213                       0         70.3      360.0   96.34  \n",
       "8214                       0         70.1      360.0  119.19  \n",
       "8215                       0         70.0      360.0  107.71  \n",
       "\n",
       "[8216 rows x 8 columns]"
      ]
     },
     "execution_count": 248,
     "metadata": {},
     "output_type": "execute_result"
    }
   ],
   "source": [
    "pd.DataFrame(data=building_data)"
   ]
  },
  {
   "cell_type": "markdown",
   "id": "3a572390",
   "metadata": {},
   "source": [
    "Dropping the null data points"
   ]
  },
  {
   "cell_type": "code",
   "execution_count": 249,
   "id": "62f3ab93",
   "metadata": {},
   "outputs": [],
   "source": [
    "building_data = building_data.dropna(axis=0)"
   ]
  },
  {
   "cell_type": "code",
   "execution_count": 250,
   "id": "8af87e1a",
   "metadata": {},
   "outputs": [
    {
     "data": {
      "text/plain": [
       "Index(['Timestamp', 'Barometer', 'Hygrometer', 'Rain Gauge',\n",
       "       'Solar Radiation Sensor', 'Thermometer', 'Wind Vane', 'Load'],\n",
       "      dtype='object')"
      ]
     },
     "execution_count": 250,
     "metadata": {},
     "output_type": "execute_result"
    }
   ],
   "source": [
    "building_data.columns"
   ]
  },
  {
   "cell_type": "markdown",
   "id": "198ac891",
   "metadata": {},
   "source": [
    "Seperating the load coloumn as target dataset"
   ]
  },
  {
   "cell_type": "code",
   "execution_count": 251,
   "id": "44f62499",
   "metadata": {},
   "outputs": [],
   "source": [
    "building_target=building_data.Load"
   ]
  },
  {
   "cell_type": "markdown",
   "id": "e1c7823c",
   "metadata": {},
   "source": [
    "Converting the pandas data into numpy and reading the size of the data"
   ]
  },
  {
   "cell_type": "code",
   "execution_count": 252,
   "id": "f822051d",
   "metadata": {
    "scrolled": false
   },
   "outputs": [
    {
     "name": "stdout",
     "output_type": "stream",
     "text": [
      "[ 91.06  90.29  90.98 ...  96.34 119.19 107.71]\n",
      "(8211,)\n"
     ]
    }
   ],
   "source": [
    "targets = building_target.to_numpy()\n",
    "print(targets)\n",
    "print(targets.shape)"
   ]
  },
  {
   "cell_type": "code",
   "execution_count": 253,
   "id": "657ce0d2",
   "metadata": {},
   "outputs": [
    {
     "name": "stdout",
     "output_type": "stream",
     "text": [
      "[[ 30.099  59.      0.      0.     49.7   360.   ]\n",
      " [ 30.097  60.      0.      0.     49.5   360.   ]\n",
      " [ 30.099  61.      0.      0.     49.2   360.   ]\n",
      " ...\n",
      " [ 29.875  46.      0.      0.     70.3   360.   ]\n",
      " [ 29.879  45.      0.      0.     70.1   360.   ]\n",
      " [ 29.885  40.      0.      0.     70.    360.   ]]\n",
      "(8211, 6)\n"
     ]
    }
   ],
   "source": [
    "all_building_features=['Barometer', 'Hygrometer', 'Rain Gauge', 'Solar Radiation Sensor', 'Thermometer', 'Wind Vane']\n",
    "features_data=building_data[all_building_features]\n",
    "all_features=features_data.to_numpy()\n",
    "print(all_features)\n",
    "print(all_features.shape)"
   ]
  },
  {
   "cell_type": "markdown",
   "id": "c195cb10",
   "metadata": {},
   "source": [
    "Comparing the target dataset with the feature dataset"
   ]
  },
  {
   "cell_type": "code",
   "execution_count": 254,
   "id": "62532b5a",
   "metadata": {},
   "outputs": [
    {
     "name": "stdout",
     "output_type": "stream",
     "text": [
      "[-0.30781244  0.07312783  0.12585602  0.26265928  0.75560319  0.05761273\n",
      "  1.        ]\n"
     ]
    }
   ],
   "source": [
    "print(np.corrcoef(all_features, targets, rowvar=False)[:,6])"
   ]
  },
  {
   "cell_type": "code",
   "execution_count": 255,
   "id": "7d39299d",
   "metadata": {
    "scrolled": false
   },
   "outputs": [
    {
     "data": {
      "image/png": "[encoded data removed]",
      "text/plain": [
       "<Figure size 432x288 with 1 Axes>"
      ]
     },
     "metadata": {
      "needs_background": "light"
     },
     "output_type": "display_data"
    },
    {
     "data": {
      "image/png": "[encoded data removed]",
      "text/plain": [
       "<Figure size 432x288 with 1 Axes>"
      ]
     },
     "metadata": {
      "needs_background": "light"
     },
     "output_type": "display_data"
    }
   ],
   "source": [
    "fig=plt.figure()\n",
    "plt.subplot(1,1,1)\n",
    "plt.plot(all_features[:,4],targets,'o')\n",
    "plt.xlabel('Load(kW)')\n",
    "plt.ylabel('Thermometer(F)')\n",
    "plt.title('Highest Correlation')\n",
    "plt.show()\n",
    "plt.subplot(1,1,1)\n",
    "plt.plot(all_features[:,5],targets,'o')\n",
    "plt.xlabel('Load(kW)')\n",
    "plt.ylabel('Wind Vane(deg)')\n",
    "plt.title('Lowest Correlation')\n",
    "plt.show()"
   ]
  },
  {
   "cell_type": "markdown",
   "id": "3cd0c861",
   "metadata": {},
   "source": [
    "Feature selection"
   ]
  },
  {
   "cell_type": "code",
   "execution_count": 256,
   "id": "ce4429d5",
   "metadata": {},
   "outputs": [
    {
     "name": "stdout",
     "output_type": "stream",
     "text": [
      "[[30.099  0.    49.7  ]\n",
      " [30.097  0.    49.5  ]\n",
      " [30.099  0.    49.2  ]\n",
      " ...\n",
      " [29.875  0.    70.3  ]\n",
      " [29.879  0.    70.1  ]\n",
      " [29.885  0.    70.   ]]\n",
      "(8211, 3)\n"
     ]
    }
   ],
   "source": [
    "building_features=['Barometer', 'Solar Radiation Sensor', 'Thermometer']\n",
    "features_data=building_data[building_features]\n",
    "features=features_data.to_numpy()\n",
    "print(features)\n",
    "print(features.shape)"
   ]
  },
  {
   "cell_type": "code",
   "execution_count": 257,
   "id": "48bae030",
   "metadata": {},
   "outputs": [
    {
     "name": "stdout",
     "output_type": "stream",
     "text": [
      "(6900, 3) (1311, 3)\n",
      "(6900, 1) (1311, 1)\n"
     ]
    }
   ],
   "source": [
    "targets=targets.reshape(-1,1)\n",
    "np.random.seed(5)\n",
    "idx = np.random.permutation(features.shape[0]) \n",
    "trn_idx, tst_idx = idx[:6900], idx[6900:] \n",
    "F_train, F_test = features[trn_idx, :], features[tst_idx, :]\n",
    "T_train, T_test = targets[trn_idx, :], targets[tst_idx, :]\n",
    "print(F_train.shape, F_test.shape)\n",
    "print(T_train.shape, T_test.shape)"
   ]
  },
  {
   "cell_type": "code",
   "execution_count": 258,
   "id": "d035db0a",
   "metadata": {},
   "outputs": [
    {
     "name": "stdout",
     "output_type": "stream",
     "text": [
      "7038 1173\n",
      "[ 0  1  2  3  4  6  7  9 10 11] [ 5  8 12 17 22 31 32 33 37 40]\n",
      "7038 1173\n",
      "[ 0  1  2  3  4  5  6  7  8 10] [ 9 13 15 19 29 41 49 50 61 69]\n",
      "7038 1173\n",
      "[ 0  1  2  3  4  5  7  8  9 10] [ 6 16 36 39 44 46 54 59 62 64]\n",
      "7038 1173\n",
      "[ 0  1  2  3  5  6  7  8  9 10] [  4  23  28  42  63  68  82  94  95 101]\n",
      "7038 1173\n",
      "[ 2  3  4  5  6  7  8  9 10 11] [ 0  1 18 21 35 53 56 60 73 84]\n",
      "7038 1173\n",
      "[ 0  1  3  4  5  6  7  8  9 11] [ 2 10 24 27 30 43 70 72 74 79]\n",
      "7038 1173\n",
      "[ 0  1  2  4  5  6  8  9 10 12] [ 3  7 11 14 20 25 26 34 38 45]\n"
     ]
    }
   ],
   "source": [
    "kf = KFold(n_splits=K, shuffle=True)\n",
    "kf.split(features)\n",
    "for a, b in kf.split(features):\n",
    "    print(len(a), len(b))\n",
    "    print(a[:10], b[:10])"
   ]
  },
  {
   "cell_type": "code",
   "execution_count": 259,
   "id": "d5412b07",
   "metadata": {},
   "outputs": [],
   "source": [
    "def kfold_CV(X, Y, K, N, learning_rate):\n",
    "    kf = KFold(n_splits=K, shuffle=True)\n",
    "    rmse_trn, rmse_tst = np.empty(0), np.empty(0)\n",
    "\n",
    "    for trn_idx, tst_idx in kf.split(X):\n",
    "        X_train, X_test = X[trn_idx, :], X[tst_idx, :]\n",
    "        Y_train, Y_test = Y[trn_idx, :], Y[tst_idx, :]\n",
    "\n",
    "        mdl = train(X_train=X_train, Y_train=Y_train, N=N, learning_rate=learning_rate)\n",
    "        with torch.no_grad():\n",
    "            yhat_trn = mdl(torch.from_numpy(X_train).float()).numpy()\n",
    "            yhat_tst = mdl(torch.from_numpy(X_test).float()).numpy()\n",
    "\n",
    "        rmse_trn = np.append(rmse_trn, rmse(yhat_trn, Y_train))\n",
    "        rmse_tst = np.append(rmse_tst, rmse(yhat_tst, Y_test))\n",
    "\n",
    "    return rmse_trn.mean(), rmse_tst.mean()"
   ]
  },
  {
   "cell_type": "markdown",
   "id": "c2d886fa",
   "metadata": {},
   "source": [
    "Hyperparameter optimization"
   ]
  },
  {
   "cell_type": "code",
   "execution_count": 347,
   "id": "8af8cd24",
   "metadata": {
    "scrolled": false
   },
   "outputs": [
    {
     "name": "stdout",
     "output_type": "stream",
     "text": [
      "N = 2, lr = 0.0001: Training RMSE = 127.72679167255676, Cross Validation RMSE = 127.32304034829458\n",
      "N = 2, lr = 0.001: Training RMSE = 64.95383839346175, Cross Validation RMSE = 64.9980945704094\n",
      "N = 2, lr = 0.01: Training RMSE = 45.49694082995789, Cross Validation RMSE = 45.698045879066186\n",
      "N = 3, lr = 0.0001: Training RMSE = 109.31503457235726, Cross Validation RMSE = 109.38762851425318\n",
      "N = 3, lr = 0.001: Training RMSE = 38.048811321119764, Cross Validation RMSE = 37.812686451151826\n",
      "N = 3, lr = 0.01: Training RMSE = 17.028180483918124, Cross Validation RMSE = 16.995460181675078\n",
      "N = 4, lr = 0.0001: Training RMSE = 113.82641080858033, Cross Validation RMSE = 113.97014453132154\n",
      "N = 4, lr = 0.001: Training RMSE = 24.386550603946265, Cross Validation RMSE = 24.297347536748777\n",
      "N = 4, lr = 0.01: Training RMSE = 16.39236225400345, Cross Validation RMSE = 16.416899710419862\n",
      "4 0.01\n"
     ]
    }
   ],
   "source": [
    "N_list = list(range(2, 5))\n",
    "lr_list = [10**i for i in range(-4, -1)]\n",
    "\n",
    "rmse_trn = np.zeros((len(N_list), len(lr_list)))\n",
    "rmse_tst = np.zeros_like(rmse_trn)\n",
    "\n",
    "for n, N in enumerate(N_list):\n",
    "    for l, lr in enumerate(lr_list):\n",
    "        trn_val, tst_val = kfold_CV(F_train, T_train, K, N, lr)\n",
    "        rmse_trn[n, l] = trn_val\n",
    "        rmse_tst[n, l] = tst_val\n",
    "\n",
    "        print('N = {}, lr = {}: Training RMSE = {}, Cross Validation RMSE = {}'.format(\n",
    "                N, lr, trn_val, tst_val\n",
    "            ))\n",
    "\n",
    "i, j = np.argwhere(rmse_tst == np.min(rmse_tst))[0]\n",
    "n_best = N_list[i]\n",
    "lr_best = lr_list[j]\n",
    "print(n_best, lr_best)"
   ]
  },
  {
   "cell_type": "markdown",
   "id": "ec604414",
   "metadata": {},
   "source": [
    "Creating 3 two-layer neural network models"
   ]
  },
  {
   "cell_type": "code",
   "execution_count": 316,
   "id": "674e40c0",
   "metadata": {},
   "outputs": [],
   "source": [
    "class TwoLayerNet(torch.nn.Module):\n",
    "    def __init__(self, input_features, neurons, output_features):\n",
    "        super().__init__()\n",
    "        self.linear1 = torch.nn.Linear(input_features, neurons)\n",
    "        self.linear2 = torch.nn.Linear(neurons, output_features)\n",
    "\n",
    "    def forward(self, x):\n",
    "        return self.linear2(self.linear1(x).clamp(min=0))"
   ]
  },
  {
   "cell_type": "code",
   "execution_count": 317,
   "id": "4ccd992b",
   "metadata": {},
   "outputs": [],
   "source": [
    "def train(X_train, Y_train, N, learning_rate, epochs=1000):\n",
    "    model = TwoLayerNet(X_train.shape[1], N, Y_train.shape[1])\n",
    "    criterion = torch.nn.MSELoss()\n",
    "    optimizer = torch.optim.Adam(model.parameters(), lr=learning_rate)\n",
    "\n",
    "    for epoch in range(epochs):\n",
    "        inputs = torch.from_numpy(X_train).float()\n",
    "        labels = torch.from_numpy(Y_train).float()\n",
    "\n",
    "        optimizer.zero_grad()\n",
    "        outputs = model(inputs)\n",
    "\n",
    "        loss = criterion(outputs, labels)\n",
    "        loss.backward()\n",
    "\n",
    "        optimizer.step()\n",
    "\n",
    "    return model"
   ]
  },
  {
   "cell_type": "code",
   "execution_count": 318,
   "id": "26df334b",
   "metadata": {},
   "outputs": [],
   "source": [
    "def rmse(yhat, y):\n",
    "    return np.sqrt(np.mean((yhat - y) ** 2))"
   ]
  },
  {
   "cell_type": "code",
   "execution_count": 319,
   "id": "10760e2a",
   "metadata": {},
   "outputs": [],
   "source": [
    "def plot_results(T_measured, T_predicted, model):\n",
    "    plt.figure()\n",
    "    plt.subplot(1,1,1)\n",
    "    plt.plot(T_predicted, label='Predictions')\n",
    "    plt.plot(T_measured, label='Measured')\n",
    "    plt.legend()"
   ]
  },
  {
   "cell_type": "code",
   "execution_count": 357,
   "id": "e0ba5a5b",
   "metadata": {},
   "outputs": [
    {
     "name": "stdout",
     "output_type": "stream",
     "text": [
      "RMSE: 16.621998269409968 \n"
     ]
    },
    {
     "data": {
      "image/png": "[encoded data removed]",
      "text/plain": [
       "<Figure size 432x288 with 1 Axes>"
      ]
     },
     "metadata": {
      "needs_background": "light"
     },
     "output_type": "display_data"
    }
   ],
   "source": [
    "modelNN1 = train(X_train=F_train, Y_train=T_train, N=4, learning_rate=0.01, epochs=1000)\n",
    "with torch.no_grad():\n",
    "    T_predicted = modelNN1(torch.from_numpy(F_test).float()).numpy()\n",
    "rmseNN1 = rmse(T_test, T_predicted)\n",
    "print('RMSE: {} '.format(rmseNN1))\n",
    "plot_results(T_test, T_predicted, modelNN1)\n",
    "plt.savefig('neuralnetwork1.png', bbox_inches='tight', pad_inches=2, transparent=True)"
   ]
  },
  {
   "cell_type": "code",
   "execution_count": 355,
   "id": "c6107386",
   "metadata": {},
   "outputs": [
    {
     "name": "stdout",
     "output_type": "stream",
     "text": [
      "RMSE: 20.074929698642336 \n"
     ]
    },
    {
     "data": {
      "image/png": "[encoded data removed]",
      "text/plain": [
       "<Figure size 432x288 with 1 Axes>"
      ]
     },
     "metadata": {
      "needs_background": "light"
     },
     "output_type": "display_data"
    }
   ],
   "source": [
    "modelNN2 = train(X_train=F_train, Y_train=T_train, N=4, learning_rate=0.001, epochs=1000)\n",
    "with torch.no_grad():\n",
    "    T_predicted = modelNN2(torch.from_numpy(F_test).float()).numpy()\n",
    "rmseNN2 = rmse(T_test, T_predicted)\n",
    "print('RMSE: {} '.format(rmseNN2))\n",
    "plot_results(T_test, T_predicted, modelNN2)\n",
    "plt.savefig('neuralnetwork2.png', bbox_inches='tight', pad_inches=2, transparent=True)"
   ]
  },
  {
   "cell_type": "code",
   "execution_count": 359,
   "id": "d4cfa0f2",
   "metadata": {},
   "outputs": [
    {
     "name": "stdout",
     "output_type": "stream",
     "text": [
      "RMSE: 17.405206260620346 \n"
     ]
    },
    {
     "data": {
      "image/png": "[encoded data removed]",
      "text/plain": [
       "<Figure size 432x288 with 1 Axes>"
      ]
     },
     "metadata": {
      "needs_background": "light"
     },
     "output_type": "display_data"
    }
   ],
   "source": [
    "modelNN3 = train(X_train=F_train, Y_train=T_train, N=3, learning_rate=0.001, epochs=1000)\n",
    "with torch.no_grad():\n",
    "    T_predicted = modelNN3(torch.from_numpy(F_test).float()).numpy()\n",
    "rmseNN3 = rmse(T_test, T_predicted)\n",
    "print('RMSE: {} '.format(rmseNN3))\n",
    "plot_results(T_test, T_predicted, modelNN3)\n",
    "plt.savefig('neuralnetwrok3.png', bbox_inches='tight', pad_inches=2, transparent=True)"
   ]
  },
  {
   "cell_type": "markdown",
   "id": "fd80fc21",
   "metadata": {},
   "source": [
    "Creating 2 linear regression model with and without regularization"
   ]
  },
  {
   "cell_type": "code",
   "execution_count": 342,
   "id": "39598c19",
   "metadata": {},
   "outputs": [],
   "source": [
    "class linearRegression(torch.nn.Module):\n",
    "    def __init__(self, inputSize, outputSize):\n",
    "        super(linearRegression, self).__init__()\n",
    "        self.linear = torch.nn.Linear(inputSize, outputSize)\n",
    "\n",
    "    def forward(self, x):\n",
    "        out = self.linear(x)\n",
    "        return out"
   ]
  },
  {
   "cell_type": "code",
   "execution_count": 311,
   "id": "204aae4a",
   "metadata": {},
   "outputs": [],
   "source": [
    "def train1(X_train, Y_train, epochs, p):\n",
    "    in_size = X_train.shape[1]\n",
    "    out_size = Y_train.shape[1]\n",
    "    lr = 0.01\n",
    "    model = linearRegression(in_size, out_size)\n",
    "    criterion = torch.nn.MSELoss()\n",
    "    optimizer = torch.optim.Adam(model.parameters(), lr=lr)\n",
    "\n",
    "    for epoch in range(epochs):\n",
    "        inputs = torch.from_numpy(X_train).float()\n",
    "        labels = torch.from_numpy(Y_train).float()\n",
    "\n",
    "        optimizer.zero_grad()\n",
    "        outputs = model(inputs)\n",
    "\n",
    "        loss = criterion(outputs, labels)\n",
    "        if p:\n",
    "            reg_term = torch.norm(model.linear.weight, p=p) \n",
    "        else:\n",
    "            reg_term = 0\n",
    "        loss += reg_term\n",
    "        loss.backward()\n",
    "\n",
    "        optimizer.step()\n",
    "\n",
    "        if epoch % 50 == 0:\n",
    "            print('epoch {}: loss = {}'.format(epoch, loss.item()))\n",
    "\n",
    "    return model"
   ]
  },
  {
   "cell_type": "code",
   "execution_count": 312,
   "id": "4112702c",
   "metadata": {},
   "outputs": [],
   "source": [
    "def print_weights_biases(model):\n",
    "    print(model.linear.weight.detach())\n",
    "    print(model.linear.bias.detach())"
   ]
  },
  {
   "cell_type": "code",
   "execution_count": 313,
   "id": "fb56b610",
   "metadata": {},
   "outputs": [
    {
     "name": "stdout",
     "output_type": "stream",
     "text": [
      "epoch 0: loss = 84337.7734375\n",
      "epoch 50: loss = 12953.6845703125\n",
      "epoch 100: loss = 5111.94970703125\n",
      "epoch 150: loss = 3347.45556640625\n",
      "epoch 200: loss = 2083.214599609375\n",
      "epoch 250: loss = 1270.19091796875\n",
      "epoch 300: loss = 796.1403198242188\n",
      "epoch 350: loss = 543.1527099609375\n",
      "epoch 400: loss = 418.90679931640625\n",
      "epoch 450: loss = 362.5251770019531\n",
      "epoch 500: loss = 338.7676696777344\n",
      "epoch 550: loss = 329.37738037109375\n",
      "epoch 600: loss = 325.7967834472656\n",
      "epoch 650: loss = 324.3735046386719\n",
      "epoch 700: loss = 323.68157958984375\n",
      "epoch 750: loss = 323.210693359375\n",
      "epoch 800: loss = 322.79327392578125\n",
      "epoch 850: loss = 322.3786926269531\n",
      "epoch 900: loss = 321.9532165527344\n",
      "epoch 950: loss = 321.5133972167969\n",
      "tensor([[0.9757, 0.0040, 1.2528]])\n",
      "tensor([2.0391])\n",
      "Regularization: None\n",
      "RMSE: 18.478447017299125 \n"
     ]
    },
    {
     "data": {
      "image/png": "[encoded data removed]",
      "text/plain": [
       "<Figure size 432x288 with 1 Axes>"
      ]
     },
     "metadata": {
      "needs_background": "light"
     },
     "output_type": "display_data"
    }
   ],
   "source": [
    "modelLR = train1(X_train=F_train, Y_train=T_train, epochs=1000, p=0)\n",
    "with torch.no_grad():\n",
    "    T_predicted = modelLR(torch.from_numpy(F_test).float()).numpy()\n",
    "print_weights_biases(modelLR)\n",
    "rmse1 = rmse(T_test, T_predicted)\n",
    "print('Regularization: None')\n",
    "print('RMSE: {} '.format(rmse1))\n",
    "plot_results(T_test, T_predicted, modelLR)\n",
    "plt.savefig('linearregression.png', bbox_inches='tight', pad_inches=2, transparent=True)"
   ]
  },
  {
   "cell_type": "code",
   "execution_count": 314,
   "id": "ecf17264",
   "metadata": {},
   "outputs": [
    {
     "name": "stdout",
     "output_type": "stream",
     "text": [
      "epoch 0: loss = 9294.8994140625\n",
      "epoch 50: loss = 2066.442626953125\n",
      "epoch 100: loss = 668.2335205078125\n",
      "epoch 150: loss = 366.3977355957031\n",
      "epoch 200: loss = 329.4830627441406\n",
      "epoch 250: loss = 326.42333984375\n",
      "epoch 300: loss = 325.5268249511719\n",
      "epoch 350: loss = 324.62908935546875\n",
      "epoch 400: loss = 323.6663513183594\n",
      "epoch 450: loss = 322.6431884765625\n",
      "epoch 500: loss = 321.564453125\n",
      "epoch 550: loss = 320.4346923828125\n",
      "epoch 600: loss = 319.2579345703125\n",
      "epoch 650: loss = 318.0381164550781\n",
      "epoch 700: loss = 316.7789306640625\n",
      "epoch 750: loss = 315.4839172363281\n",
      "epoch 800: loss = 314.15667724609375\n",
      "epoch 850: loss = 312.8004150390625\n",
      "epoch 900: loss = 311.41851806640625\n",
      "epoch 950: loss = 310.01409912109375\n",
      "tensor([[0.7411, 0.0028, 1.3693]])\n",
      "tensor([0.7178])\n",
      "Regularization: L2-norm\n",
      "RMSE: 18.083199827813317 \n"
     ]
    },
    {
     "data": {
      "image/png": "[encoded data removed]",
      "text/plain": [
       "<Figure size 432x288 with 1 Axes>"
      ]
     },
     "metadata": {
      "needs_background": "light"
     },
     "output_type": "display_data"
    }
   ],
   "source": [
    "modelRR = train1(X_train=F_train, Y_train=T_train, epochs=1000, p=2)\n",
    "with torch.no_grad():\n",
    "    T_predicted = modelRR(torch.from_numpy(F_test).float()).numpy()\n",
    "print_weights_biases(modelRR)\n",
    "rmse1 = rmse(T_test, T_predicted)\n",
    "print('Regularization: L2-norm')\n",
    "print('RMSE: {} '.format(rmse1))\n",
    "plot_results(T_test, T_predicted, modelRR)\n",
    "plt.savefig('ridgeregression.png', bbox_inches='tight', pad_inches=2, transparent=True)"
   ]
  }
 ],
 "metadata": {
  "kernelspec": {
   "display_name": "Python 3",
   "language": "python",
   "name": "python3"
  },
  "language_info": {
   "codemirror_mode": {
    "name": "ipython",
    "version": 3
   },
   "file_extension": ".py",
   "mimetype": "text/x-python",
   "name": "python",
   "nbconvert_exporter": "python",
   "pygments_lexer": "ipython3",
   "version": "3.8.8"
  }
 },
 "nbformat": 4,
 "nbformat_minor": 5
}
